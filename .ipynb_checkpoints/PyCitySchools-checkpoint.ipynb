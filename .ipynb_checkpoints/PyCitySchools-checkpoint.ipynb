{
 "cells": [
  {
   "cell_type": "code",
   "execution_count": 1,
   "id": "96ab2bd8",
   "metadata": {},
   "outputs": [],
   "source": [
    "# Dependencies\n",
    "import pandas as pd\n",
    "\n",
    "# Create file paths\n",
    "school_file_path = \"./School-District-Analysis/schools_complete.csv\"\n",
    "student_file_path = \"./School-District-Analysis/students_complete.csv\"\n",
    "\n",
    "# Read and store files in pandas dataframe\n",
    "school_df = pd.read_csv(school_file_path)\n",
    "student_df = pd.read_csv(student_file_path)\n",
    "\n",
    "# Merge dataframes into one\n",
    "merged_df = pd.merge(school_df, student_df, on=\"school_name\")"
   ]
  },
  {
   "cell_type": "code",
   "execution_count": 2,
   "id": "2fece668",
   "metadata": {},
   "outputs": [
    {
     "data": {
      "text/plain": [
       "15"
      ]
     },
     "execution_count": 2,
     "metadata": {},
     "output_type": "execute_result"
    }
   ],
   "source": [
    "# Find total number of unique schools by using unique function on schools df,\n",
    "# then use len to get the number of items in the array (aka count of schools)\n",
    "total_schools = len(merged_df[\"school_name\"].unique())\n",
    "total_schools"
   ]
  },
  {
   "cell_type": "code",
   "execution_count": null,
   "id": "61feb91b",
   "metadata": {},
   "outputs": [],
   "source": [
    "# Find total students using count function\n",
    "total_students = merged_df[\"student_name\"].count()\n",
    "total_students"
   ]
  },
  {
   "cell_type": "code",
   "execution_count": null,
   "id": "aa581226",
   "metadata": {},
   "outputs": [],
   "source": [
    "# Find total budget using sum function\n",
    "total_budget = school_df[\"budget\"].sum()\n",
    "total_budget"
   ]
  },
  {
   "cell_type": "code",
   "execution_count": null,
   "id": "8a8bc2ed",
   "metadata": {},
   "outputs": [],
   "source": [
    "# Find average math score by using mean function\n",
    "average_math_score = merged_df[\"math_score\"].mean()\n",
    "average_math_score"
   ]
  },
  {
   "cell_type": "code",
   "execution_count": null,
   "id": "28caff4d",
   "metadata": {},
   "outputs": [],
   "source": [
    "# Find average reading score by using mean function\n",
    "average_reading_score = merged_df[\"reading_score\"].mean()\n",
    "average_reading_score"
   ]
  },
  {
   "cell_type": "code",
   "execution_count": null,
   "id": "f072a78b",
   "metadata": {},
   "outputs": [],
   "source": [
    "# Create a filtered dataframe containing only students who passed math using .loc, \n",
    "# then divide its count by the count of the dataframe containing all students and multiply\n",
    "# by 100 to convert into %\n",
    "passed_math_df = merged_df.loc[merged_df[\"math_score\"] >= 70, :]\n",
    "percent_passed_math = passed_math_df[\"student_name\"].count() / merged_df[\"student_name\"].count() * 100\n",
    "percent_passed_math"
   ]
  },
  {
   "cell_type": "code",
   "execution_count": null,
   "id": "dcf8b7bc",
   "metadata": {},
   "outputs": [],
   "source": [
    "# Do the same as above but for \"reading_score\"\n",
    "passed_reading_df = merged_df.loc[merged_df[\"reading_score\"] >= 70, :]\n",
    "percent_passed_reading = passed_reading_df[\"student_name\"].count() / merged_df[\"student_name\"].count() * 100\n",
    "percent_passed_reading"
   ]
  },
  {
   "cell_type": "code",
   "execution_count": null,
   "id": "ff6d6e52",
   "metadata": {},
   "outputs": [],
   "source": [
    "# Do the same as above but combine both filters in one equation\n",
    "passed_both_df = merged_df.loc[(merged_df[\"math_score\"] >= 70) & (merged_df[\"reading_score\"] >= 70), :]\n",
    "percent_passed_both = passed_both_df[\"student_name\"].count() / merged_df[\"student_name\"].count() * 100\n",
    "percent_passed_both"
   ]
  },
  {
   "cell_type": "code",
   "execution_count": null,
   "id": "440114c7",
   "metadata": {},
   "outputs": [],
   "source": [
    "#Create a dataframe that collects and displays the above calculated metrics \n",
    "district_summary = pd.DataFrame({\n",
    "    \"Total Schools\": [total_schools],\n",
    "    \"Total Students\": [total_students],\n",
    "    \"Total Budget\": [total_budget],\n",
    "    \"Average Math Score\": [average_math_score],\n",
    "    \"Average Reading Score\": [average_reading_score],\n",
    "    \"Passing Rate (Math)\": [percent_passed_math],\n",
    "    \"Passing Rate (Reading)\": [percent_passed_reading],\n",
    "    \"Total Passing Rate\": [percent_passed_both]\n",
    "})\n",
    "\n",
    "#Format \n",
    "district_summary[\"Total Students\"] = district_summary[\"Total Students\"].map(\"{:,}\".format)\n",
    "district_summary[\"Total Budget\"] = district_summary[\"Total Budget\"].map(\"${:,.2f}\".format)\n",
    "\n",
    "#Display\n",
    "district_summary"
   ]
  },
  {
   "cell_type": "code",
   "execution_count": null,
   "id": "bec54e6b",
   "metadata": {},
   "outputs": [],
   "source": [
    "#Set a new index to capture each school's name with its type\n",
    "school_types = school_df.set_index([\"school_name\"])[\"type\"]\n",
    "school_types"
   ]
  },
  {
   "cell_type": "code",
   "execution_count": null,
   "id": "559709c6",
   "metadata": {},
   "outputs": [],
   "source": [
    "#Use value counts function to find the students per school\n",
    "students_per_school = merged_df[\"school_name\"].value_counts()\n",
    "students_per_school"
   ]
  },
  {
   "cell_type": "code",
   "execution_count": null,
   "id": "fb4c0483",
   "metadata": {},
   "outputs": [],
   "source": [
    "#Set a new index to capture each school's budget\n",
    "budget_per_school = school_df.set_index([\"school_name\"])[\"budget\"]\n",
    "budget_per_school"
   ]
  },
  {
   "cell_type": "code",
   "execution_count": null,
   "id": "7f6becad",
   "metadata": {},
   "outputs": [],
   "source": [
    "#Use variables created previously to calculate the budget per student\n",
    "budget_per_student = budget_per_school / students_per_school\n",
    "budget_per_student"
   ]
  },
  {
   "cell_type": "code",
   "execution_count": null,
   "id": "cae18aa9",
   "metadata": {},
   "outputs": [],
   "source": [
    "#Use groupby function to find average of math and reading scores for each school\n",
    "average_math_per_school = merged_df.groupby(\"school_name\").mean()[\"math_score\"]\n",
    "average_math_per_school"
   ]
  },
  {
   "cell_type": "code",
   "execution_count": null,
   "id": "5d7f0331",
   "metadata": {},
   "outputs": [],
   "source": [
    "#Same as above \n",
    "average_reading_per_school = merged_df.groupby(\"school_name\").mean()[\"reading_score\"]\n",
    "average_reading_per_school"
   ]
  },
  {
   "cell_type": "code",
   "execution_count": null,
   "id": "517b8dd0",
   "metadata": {},
   "outputs": [],
   "source": [
    "#Filter students who passed math\n",
    "district_passed_math = merged_df.loc[merged_df[\"math_score\"] >= 70]\n",
    "#Filter students who passed reading\n",
    "district_passed_reading = merged_df.loc[merged_df[\"reading_score\"] >= 70]\n",
    "#Filter students who passed both\n",
    "overall_district_passed = merged_df.loc[(merged_df[\"math_score\"] >= 70) & (merged_df[\"reading_score\"] >= 70)]"
   ]
  },
  {
   "cell_type": "code",
   "execution_count": null,
   "id": "9984460f",
   "metadata": {},
   "outputs": [],
   "source": [
    "#Use this formula to find passing rates by school\n",
    "percent_per_school_math = district_passed_math.groupby([\"school_name\"]).count()[\"student_name\"] / \\\n",
    "students_per_school * 100\n",
    "\n",
    "percent_per_school_reading = district_passed_reading.groupby([\"school_name\"]).count()[\"student_name\"] / \\\n",
    "students_per_school * 100\n",
    "\n",
    "overall_percent_per_school = overall_district_passed.groupby([\"school_name\"]).count()[\"student_name\"] / \\\n",
    "students_per_school * 100"
   ]
  },
  {
   "cell_type": "code",
   "execution_count": null,
   "id": "65f97891",
   "metadata": {},
   "outputs": [],
   "source": [
    "#Create a DataFrame to show metrics by school\n",
    "per_school_summary = pd.DataFrame(\n",
    "    {\n",
    "    \"School Types\": school_types,\n",
    "    \"Total Students\": students_per_school,\n",
    "    \"Total School Budget\": budget_per_school,\n",
    "    \"Per Student Budget\": budget_per_student,\n",
    "    \"Average Math Score\": average_math_per_school,\n",
    "    \"Average Reading Score\": average_reading_per_school,\n",
    "    \"% Passing Math\": percent_per_school_math,\n",
    "    \"% Passing Reading\": percent_per_school_reading,\n",
    "    \"% Overall Passing\": overall_percent_per_school\n",
    "    }\n",
    ")\n",
    "# Formatting\n",
    "per_school_summary[\"Total School Budget\"] = per_school_summary[\"Total School Budget\"].map(\"${:,.2f}\".format)\n",
    "per_school_summary[\"Per Student Budget\"] = per_school_summary[\"Per Student Budget\"].map(\"${:,.2f}\".format)\n",
    "\n",
    "#Display\n",
    "per_school_summary"
   ]
  },
  {
   "cell_type": "code",
   "execution_count": null,
   "id": "d7a04cf4",
   "metadata": {},
   "outputs": [],
   "source": [
    "#Sort schools by their overall passing percentages in descending order\n",
    "top_schools = per_school_summary.sort_values(\"% Overall Passing\", ascending=False)\n",
    "top_schools.head()"
   ]
  },
  {
   "cell_type": "code",
   "execution_count": null,
   "id": "af0f676a",
   "metadata": {},
   "outputs": [],
   "source": [
    "#Sort schools by their overall passing percentages in descending order\n",
    "bottom_schools = per_school_summary.sort_values(\"% Overall Passing\", ascending=True)\n",
    "bottom_schools.head()"
   ]
  },
  {
   "cell_type": "code",
   "execution_count": null,
   "id": "de5ddb23",
   "metadata": {},
   "outputs": [],
   "source": [
    "#Filter by grade and store in variables\n",
    "ninth_graders = merged_df[(merged_df[\"grade\"] == \"9th\")]\n",
    "tenth_graders = merged_df[(merged_df[\"grade\"] == \"10th\")]\n",
    "eleventh_graders = merged_df[(merged_df[\"grade\"] == \"11th\")]\n",
    "twelfth_graders = merged_df[(merged_df[\"grade\"] == \"12th\")]\n",
    "\n",
    "#Groupby school name and get the mean\n",
    "ninth_graders_scores = ninth_graders.groupby(\"school_name\").mean()\n",
    "tenth_graders_scores = tenth_graders.groupby(\"school_name\").mean()\n",
    "eleventh_graders_scores = eleventh_graders.groupby(\"school_name\").mean()\n",
    "twelfth_graders_scores = twelfth_graders.groupby(\"school_name\").mean()\n",
    "\n",
    "#Store math score averages in variables\n",
    "ninth_grade_math_scores = ninth_graders_scores[\"math_score\"]\n",
    "tenth_grade_math_scores = tenth_graders_scores[\"math_score\"]\n",
    "eleventh_grade_math_scores = eleventh_graders_scores[\"math_score\"]\n",
    "twelfth_grade_math_scores = twelfth_graders_scores[\"math_score\"]\n",
    "\n",
    "#Create DataFrame\n",
    "math_scores_by_grade = pd.DataFrame(\n",
    "    {\n",
    "    \"9th\": ninth_grade_math_scores,\n",
    "    \"10th\": tenth_grade_math_scores,\n",
    "    \"11th\": eleventh_grade_math_scores,\n",
    "    \"12th\": twelfth_grade_math_scores\n",
    "    }\n",
    ")\n",
    "\n",
    "#Display\n",
    "math_scores_by_grade"
   ]
  },
  {
   "cell_type": "code",
   "execution_count": null,
   "id": "bf747867",
   "metadata": {},
   "outputs": [],
   "source": [
    "#Store reading score averages in variables\n",
    "ninth_grade_reading_scores = ninth_graders_scores[\"reading_score\"]\n",
    "tenth_grade_reading_scores = tenth_graders_scores[\"reading_score\"]\n",
    "eleventh_grade_reading_scores = eleventh_graders_scores[\"reading_score\"]\n",
    "twelfth_grade_reading_scores = twelfth_graders_scores[\"reading_score\"]\n",
    "\n",
    "\n",
    "#Create DataFrame\n",
    "reading_scores_by_grade = pd.DataFrame(\n",
    "    {\n",
    "    \"9th\": ninth_grade_reading_scores,\n",
    "    \"10th\": tenth_grade_reading_scores,\n",
    "    \"11th\": eleventh_grade_reading_scores,\n",
    "    \"12th\": twelfth_grade_reading_scores\n",
    "    }\n",
    ")\n",
    "\n",
    "#Display\n",
    "reading_scores_by_grade"
   ]
  },
  {
   "cell_type": "code",
   "execution_count": null,
   "id": "0cacf05f",
   "metadata": {},
   "outputs": [],
   "source": [
    "#Establish bins\n",
    "spending_bins = [0, 585, 630, 645, 680]\n",
    "labels = [\"<$585\", \"$585-630\", \"$630-645\", \"$645-680\"]"
   ]
  },
  {
   "cell_type": "code",
   "execution_count": null,
   "id": "419ee88b",
   "metadata": {},
   "outputs": [],
   "source": [
    "#Make a copy of DataFrame\n",
    "school_spending_df = per_school_summary.copy()"
   ]
  },
  {
   "cell_type": "code",
   "execution_count": null,
   "id": "ab635634",
   "metadata": {},
   "outputs": [],
   "source": [
    "#Categorize spending based on bins\n",
    "school_spending_df[\"Spending Ranges (Per Student)\"] = pd.cut(budget_per_student, bins=spending_bins, labels=labels)"
   ]
  },
  {
   "cell_type": "code",
   "execution_count": null,
   "id": "5638e652",
   "metadata": {},
   "outputs": [],
   "source": [
    "#Display\n",
    "school_spending_df"
   ]
  },
  {
   "cell_type": "code",
   "execution_count": null,
   "id": "c36fdada",
   "metadata": {},
   "outputs": [],
   "source": [
    "#Create variables containing info we'd like to put in DataFrame\n",
    "spending_math_scores = school_spending_df.groupby([\"Spending Ranges (Per Student)\"])[\"Average Math Score\"].mean()\n",
    "spending_reading_scores = school_spending_df.groupby([\"Spending Ranges (Per Student)\"])[\"Average Reading Score\"].mean()\n",
    "spending_passing_math = school_spending_df.groupby([\"Spending Ranges (Per Student)\"])[\"% Passing Math\"].mean()\n",
    "spending_passing_reading = school_spending_df.groupby([\"Spending Ranges (Per Student)\"])[\"% Passing Reading\"].mean()\n",
    "overall_passing_spending = school_spending_df.groupby([\"Spending Ranges (Per Student)\"])[\"% Overall Passing\"].mean()"
   ]
  },
  {
   "cell_type": "code",
   "execution_count": null,
   "id": "a94086be",
   "metadata": {},
   "outputs": [],
   "source": [
    "#Create DataFrame\n",
    "spending_summary = pd.DataFrame(\n",
    "    {\n",
    "        \"Average Math Score\": spending_math_scores,\n",
    "        \"Average Reading Score\": spending_reading_scores,\n",
    "        \"% Passing Math\": spending_passing_math,\n",
    "        \"% Passing Reading\": spending_passing_reading,\n",
    "        \"% Overall Passing\": overall_passing_spending\n",
    "    }\n",
    ")\n",
    "spending_summary"
   ]
  },
  {
   "cell_type": "code",
   "execution_count": null,
   "id": "c011d534",
   "metadata": {},
   "outputs": [],
   "source": [
    "#Establish bins\n",
    "size_bins = [0, 1000, 2000, 5000]\n",
    "labels = [\"Small (<1000)\", \"Medium (1000-2000)\", \"Large (2000-5000)\"]"
   ]
  },
  {
   "cell_type": "code",
   "execution_count": null,
   "id": "304b5d45",
   "metadata": {},
   "outputs": [],
   "source": [
    "#Categorize school size using bins\n",
    "per_school_summary[\"School Size\"] = pd.cut(per_school_summary[\"Total Students\"], size_bins, labels=labels)\n",
    "per_school_summary"
   ]
  },
  {
   "cell_type": "code",
   "execution_count": null,
   "id": "6fc2820d",
   "metadata": {},
   "outputs": [],
   "source": [
    "#Create variables containing info we'd like to put in DataFrame\n",
    "size_math_scores = per_school_summary.groupby([\"School Size\"])[\"Average Math Score\"].mean()\n",
    "size_reading_scores = per_school_summary.groupby([\"School Size\"])[\"Average Reading Score\"].mean()\n",
    "size_passing_math = per_school_summary.groupby([\"School Size\"])[\"% Passing Math\"].mean()\n",
    "size_passing_reading = per_school_summary.groupby([\"School Size\"])[\"% Passing Reading\"].mean()\n",
    "overall_passing_size = per_school_summary.groupby([\"School Size\"])[\"% Overall Passing\"].mean()"
   ]
  },
  {
   "cell_type": "code",
   "execution_count": null,
   "id": "8bb9345a",
   "metadata": {},
   "outputs": [],
   "source": [
    "#Create DataFrame\n",
    "type_summary = pd.DataFrame(\n",
    "    {\n",
    "       \"Average Math Score\": size_math_scores,\n",
    "        \"Average Reading Score\": size_reading_scores,\n",
    "        \"% Passing Math\": size_passing_math,\n",
    "        \"% Passing Reading\": size_passing_reading,\n",
    "        \"% Overall Passing\": overall_passing_size  \n",
    "    }\n",
    ")\n",
    "type_summary"
   ]
  },
  {
   "cell_type": "code",
   "execution_count": null,
   "id": "0b50fb76",
   "metadata": {},
   "outputs": [],
   "source": []
  },
  {
   "cell_type": "code",
   "execution_count": null,
   "id": "71564f7a",
   "metadata": {},
   "outputs": [],
   "source": []
  },
  {
   "cell_type": "code",
   "execution_count": null,
   "id": "a6652246",
   "metadata": {},
   "outputs": [],
   "source": []
  },
  {
   "cell_type": "code",
   "execution_count": null,
   "id": "1237e613",
   "metadata": {},
   "outputs": [],
   "source": []
  }
 ],
 "metadata": {
  "kernelspec": {
   "display_name": "Python 3 (ipykernel)",
   "language": "python",
   "name": "python3"
  },
  "language_info": {
   "codemirror_mode": {
    "name": "ipython",
    "version": 3
   },
   "file_extension": ".py",
   "mimetype": "text/x-python",
   "name": "python",
   "nbconvert_exporter": "python",
   "pygments_lexer": "ipython3",
   "version": "3.11.4"
  }
 },
 "nbformat": 4,
 "nbformat_minor": 5
}
